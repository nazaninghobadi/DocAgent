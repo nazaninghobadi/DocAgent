{
 "cells": [
  {
   "cell_type": "code",
   "execution_count": 35,
   "id": "dd568691",
   "metadata": {},
   "outputs": [
    {
     "name": "stdout",
     "output_type": "stream",
     "text": [
      "Requirement already satisfied: langchain-community in d:\\anaconda3\\lib\\site-packages (0.3.27)\n",
      "Requirement already satisfied: unstructured in d:\\anaconda3\\lib\\site-packages (0.18.5)\n",
      "Requirement already satisfied: PyMuPDF in d:\\anaconda3\\lib\\site-packages (1.26.3)\n",
      "Requirement already satisfied: unstructured-inference in d:\\anaconda3\\lib\\site-packages (1.0.5)\n",
      "Requirement already satisfied: python-pptx in d:\\anaconda3\\lib\\site-packages (1.0.2)\n",
      "Requirement already satisfied: sentence-transformers in d:\\anaconda3\\lib\\site-packages (5.0.0)\n",
      "Requirement already satisfied: faiss-cpu in d:\\anaconda3\\lib\\site-packages (1.11.0)\n",
      "Requirement already satisfied: openai in d:\\anaconda3\\lib\\site-packages (1.95.1)\n",
      "Requirement already satisfied: langchain-openai in d:\\anaconda3\\lib\\site-packages (0.3.27)\n",
      "Requirement already satisfied: numpy in d:\\anaconda3\\lib\\site-packages (2.2.6)\n",
      "Requirement already satisfied: python-docx in d:\\anaconda3\\lib\\site-packages (1.2.0)\n",
      "Requirement already satisfied: langchain-core<1.0.0,>=0.3.66 in d:\\anaconda3\\lib\\site-packages (from langchain-community) (0.3.68)\n",
      "Requirement already satisfied: langchain<1.0.0,>=0.3.26 in d:\\anaconda3\\lib\\site-packages (from langchain-community) (0.3.26)\n",
      "Requirement already satisfied: SQLAlchemy<3,>=1.4 in d:\\anaconda3\\lib\\site-packages (from langchain-community) (2.0.34)\n",
      "Requirement already satisfied: requests<3,>=2 in d:\\anaconda3\\lib\\site-packages (from langchain-community) (2.32.3)\n",
      "Requirement already satisfied: PyYAML>=5.3 in d:\\anaconda3\\lib\\site-packages (from langchain-community) (6.0.1)\n",
      "Requirement already satisfied: aiohttp<4.0.0,>=3.8.3 in d:\\anaconda3\\lib\\site-packages (from langchain-community) (3.10.5)\n",
      "Requirement already satisfied: tenacity!=8.4.0,<10,>=8.1.0 in d:\\anaconda3\\lib\\site-packages (from langchain-community) (8.2.3)\n",
      "Requirement already satisfied: dataclasses-json<0.7,>=0.5.7 in d:\\anaconda3\\lib\\site-packages (from langchain-community) (0.6.7)\n",
      "Requirement already satisfied: pydantic-settings<3.0.0,>=2.4.0 in d:\\anaconda3\\lib\\site-packages (from langchain-community) (2.6.1)\n",
      "Requirement already satisfied: langsmith>=0.1.125 in d:\\anaconda3\\lib\\site-packages (from langchain-community) (0.4.5)\n",
      "Requirement already satisfied: httpx-sse<1.0.0,>=0.4.0 in d:\\anaconda3\\lib\\site-packages (from langchain-community) (0.4.1)\n",
      "Requirement already satisfied: aiohappyeyeballs>=2.3.0 in d:\\anaconda3\\lib\\site-packages (from aiohttp<4.0.0,>=3.8.3->langchain-community) (2.4.0)\n",
      "Requirement already satisfied: aiosignal>=1.1.2 in d:\\anaconda3\\lib\\site-packages (from aiohttp<4.0.0,>=3.8.3->langchain-community) (1.2.0)\n",
      "Requirement already satisfied: attrs>=17.3.0 in d:\\anaconda3\\lib\\site-packages (from aiohttp<4.0.0,>=3.8.3->langchain-community) (23.1.0)\n",
      "Requirement already satisfied: frozenlist>=1.1.1 in d:\\anaconda3\\lib\\site-packages (from aiohttp<4.0.0,>=3.8.3->langchain-community) (1.4.0)\n",
      "Requirement already satisfied: multidict<7.0,>=4.5 in d:\\anaconda3\\lib\\site-packages (from aiohttp<4.0.0,>=3.8.3->langchain-community) (6.0.4)\n",
      "Requirement already satisfied: yarl<2.0,>=1.0 in d:\\anaconda3\\lib\\site-packages (from aiohttp<4.0.0,>=3.8.3->langchain-community) (1.11.0)\n",
      "Requirement already satisfied: marshmallow<4.0.0,>=3.18.0 in d:\\anaconda3\\lib\\site-packages (from dataclasses-json<0.7,>=0.5.7->langchain-community) (3.26.1)\n",
      "Requirement already satisfied: typing-inspect<1,>=0.4.0 in d:\\anaconda3\\lib\\site-packages (from dataclasses-json<0.7,>=0.5.7->langchain-community) (0.9.0)\n",
      "Requirement already satisfied: langchain-text-splitters<1.0.0,>=0.3.8 in d:\\anaconda3\\lib\\site-packages (from langchain<1.0.0,>=0.3.26->langchain-community) (0.3.8)\n",
      "Requirement already satisfied: pydantic<3.0.0,>=2.7.4 in d:\\anaconda3\\lib\\site-packages (from langchain<1.0.0,>=0.3.26->langchain-community) (2.11.7)\n",
      "Requirement already satisfied: jsonpatch<2.0,>=1.33 in d:\\anaconda3\\lib\\site-packages (from langchain-core<1.0.0,>=0.3.66->langchain-community) (1.33)\n",
      "Requirement already satisfied: packaging<25,>=23.2 in d:\\anaconda3\\lib\\site-packages (from langchain-core<1.0.0,>=0.3.66->langchain-community) (24.1)\n",
      "Requirement already satisfied: typing-extensions>=4.7 in d:\\anaconda3\\lib\\site-packages (from langchain-core<1.0.0,>=0.3.66->langchain-community) (4.14.1)\n",
      "Requirement already satisfied: jsonpointer>=1.9 in d:\\anaconda3\\lib\\site-packages (from jsonpatch<2.0,>=1.33->langchain-core<1.0.0,>=0.3.66->langchain-community) (2.1)\n",
      "Requirement already satisfied: annotated-types>=0.6.0 in d:\\anaconda3\\lib\\site-packages (from pydantic<3.0.0,>=2.7.4->langchain<1.0.0,>=0.3.26->langchain-community) (0.6.0)\n",
      "Requirement already satisfied: pydantic-core==2.33.2 in d:\\anaconda3\\lib\\site-packages (from pydantic<3.0.0,>=2.7.4->langchain<1.0.0,>=0.3.26->langchain-community) (2.33.2)\n",
      "Requirement already satisfied: typing-inspection>=0.4.0 in d:\\anaconda3\\lib\\site-packages (from pydantic<3.0.0,>=2.7.4->langchain<1.0.0,>=0.3.26->langchain-community) (0.4.1)\n",
      "Requirement already satisfied: python-dotenv>=0.21.0 in d:\\anaconda3\\lib\\site-packages (from pydantic-settings<3.0.0,>=2.4.0->langchain-community) (0.21.0)\n",
      "Requirement already satisfied: charset-normalizer<4,>=2 in d:\\anaconda3\\lib\\site-packages (from requests<3,>=2->langchain-community) (3.3.2)\n",
      "Requirement already satisfied: idna<4,>=2.5 in d:\\anaconda3\\lib\\site-packages (from requests<3,>=2->langchain-community) (3.7)\n",
      "Requirement already satisfied: urllib3<3,>=1.21.1 in d:\\anaconda3\\lib\\site-packages (from requests<3,>=2->langchain-community) (2.2.3)\n",
      "Requirement already satisfied: certifi>=2017.4.17 in d:\\anaconda3\\lib\\site-packages (from requests<3,>=2->langchain-community) (2025.4.26)\n",
      "Requirement already satisfied: greenlet!=0.4.17 in d:\\anaconda3\\lib\\site-packages (from SQLAlchemy<3,>=1.4->langchain-community) (3.0.1)\n",
      "Requirement already satisfied: mypy-extensions>=0.3.0 in d:\\anaconda3\\lib\\site-packages (from typing-inspect<1,>=0.4.0->dataclasses-json<0.7,>=0.5.7->langchain-community) (1.0.0)\n",
      "Requirement already satisfied: chardet in d:\\anaconda3\\lib\\site-packages (from unstructured) (4.0.0)\n",
      "Requirement already satisfied: filetype in d:\\anaconda3\\lib\\site-packages (from unstructured) (1.2.0)\n",
      "Requirement already satisfied: python-magic in d:\\anaconda3\\lib\\site-packages (from unstructured) (0.4.27)\n",
      "Requirement already satisfied: lxml in d:\\anaconda3\\lib\\site-packages (from unstructured) (5.2.1)\n",
      "Requirement already satisfied: nltk in d:\\anaconda3\\lib\\site-packages (from unstructured) (3.9.1)\n",
      "Requirement already satisfied: beautifulsoup4 in d:\\anaconda3\\lib\\site-packages (from unstructured) (4.12.3)\n",
      "Requirement already satisfied: emoji in d:\\anaconda3\\lib\\site-packages (from unstructured) (2.14.1)\n",
      "Requirement already satisfied: python-iso639 in d:\\anaconda3\\lib\\site-packages (from unstructured) (2025.2.18)\n",
      "Requirement already satisfied: langdetect in d:\\anaconda3\\lib\\site-packages (from unstructured) (1.0.9)\n",
      "Requirement already satisfied: rapidfuzz in d:\\anaconda3\\lib\\site-packages (from unstructured) (3.13.0)\n",
      "Requirement already satisfied: backoff in d:\\anaconda3\\lib\\site-packages (from unstructured) (2.2.1)\n",
      "Requirement already satisfied: unstructured-client in d:\\anaconda3\\lib\\site-packages (from unstructured) (0.38.1)\n",
      "Requirement already satisfied: wrapt in d:\\anaconda3\\lib\\site-packages (from unstructured) (1.14.1)\n",
      "Requirement already satisfied: tqdm in d:\\anaconda3\\lib\\site-packages (from unstructured) (4.66.5)\n",
      "Requirement already satisfied: psutil in d:\\anaconda3\\lib\\site-packages (from unstructured) (5.9.0)\n",
      "Requirement already satisfied: python-oxmsg in d:\\anaconda3\\lib\\site-packages (from unstructured) (0.0.2)\n",
      "Requirement already satisfied: html5lib in d:\\anaconda3\\lib\\site-packages (from unstructured) (1.1)\n",
      "Requirement already satisfied: python-multipart in d:\\anaconda3\\lib\\site-packages (from unstructured-inference) (0.0.20)\n",
      "Requirement already satisfied: huggingface-hub in d:\\anaconda3\\lib\\site-packages (from unstructured-inference) (0.33.4)\n",
      "Requirement already satisfied: opencv-python!=4.7.0.68 in d:\\anaconda3\\lib\\site-packages (from unstructured-inference) (4.12.0.88)\n",
      "Requirement already satisfied: onnx in d:\\anaconda3\\lib\\site-packages (from unstructured-inference) (1.18.0)\n",
      "Requirement already satisfied: onnxruntime>=1.18.0 in d:\\anaconda3\\lib\\site-packages (from unstructured-inference) (1.22.1)\n",
      "Requirement already satisfied: matplotlib in d:\\anaconda3\\lib\\site-packages (from unstructured-inference) (3.9.2)\n",
      "Requirement already satisfied: torch in d:\\anaconda3\\lib\\site-packages (from unstructured-inference) (2.7.1)\n",
      "Requirement already satisfied: timm in d:\\anaconda3\\lib\\site-packages (from unstructured-inference) (1.0.17)\n",
      "Requirement already satisfied: transformers>=4.25.1 in d:\\anaconda3\\lib\\site-packages (from unstructured-inference) (4.53.2)\n",
      "Requirement already satisfied: accelerate in d:\\anaconda3\\lib\\site-packages (from unstructured-inference) (1.8.1)\n",
      "Requirement already satisfied: pandas in d:\\anaconda3\\lib\\site-packages (from unstructured-inference) (2.2.2)\n",
      "Requirement already satisfied: scipy in d:\\anaconda3\\lib\\site-packages (from unstructured-inference) (1.13.1)\n",
      "Requirement already satisfied: pypdfium2 in d:\\anaconda3\\lib\\site-packages (from unstructured-inference) (4.30.1)\n",
      "Requirement already satisfied: pdfminer-six in d:\\anaconda3\\lib\\site-packages (from unstructured-inference) (20250506)\n",
      "Requirement already satisfied: Pillow>=3.3.2 in d:\\anaconda3\\lib\\site-packages (from python-pptx) (11.3.0)\n",
      "Requirement already satisfied: XlsxWriter>=0.5.7 in d:\\anaconda3\\lib\\site-packages (from python-pptx) (3.2.5)\n",
      "Requirement already satisfied: scikit-learn in d:\\anaconda3\\lib\\site-packages (from sentence-transformers) (1.5.1)\n",
      "Requirement already satisfied: filelock in d:\\anaconda3\\lib\\site-packages (from transformers>=4.25.1->unstructured-inference) (3.13.1)\n",
      "Requirement already satisfied: regex!=2019.12.17 in d:\\anaconda3\\lib\\site-packages (from transformers>=4.25.1->unstructured-inference) (2024.9.11)\n",
      "Requirement already satisfied: tokenizers<0.22,>=0.21 in d:\\anaconda3\\lib\\site-packages (from transformers>=4.25.1->unstructured-inference) (0.21.2)\n",
      "Requirement already satisfied: safetensors>=0.4.3 in d:\\anaconda3\\lib\\site-packages (from transformers>=4.25.1->unstructured-inference) (0.5.3)\n",
      "Requirement already satisfied: fsspec>=2023.5.0 in d:\\anaconda3\\lib\\site-packages (from huggingface-hub->unstructured-inference) (2024.6.1)\n",
      "Requirement already satisfied: anyio<5,>=3.5.0 in d:\\anaconda3\\lib\\site-packages (from openai) (4.2.0)\n",
      "Requirement already satisfied: distro<2,>=1.7.0 in d:\\anaconda3\\lib\\site-packages (from openai) (1.9.0)\n",
      "Requirement already satisfied: httpx<1,>=0.23.0 in d:\\anaconda3\\lib\\site-packages (from openai) (0.27.0)\n",
      "Requirement already satisfied: jiter<1,>=0.4.0 in d:\\anaconda3\\lib\\site-packages (from openai) (0.10.0)\n",
      "Requirement already satisfied: sniffio in d:\\anaconda3\\lib\\site-packages (from openai) (1.3.0)\n",
      "Requirement already satisfied: httpcore==1.* in d:\\anaconda3\\lib\\site-packages (from httpx<1,>=0.23.0->openai) (1.0.2)\n",
      "Requirement already satisfied: h11<0.15,>=0.13 in d:\\anaconda3\\lib\\site-packages (from httpcore==1.*->httpx<1,>=0.23.0->openai) (0.14.0)\n",
      "Requirement already satisfied: tiktoken<1,>=0.7 in d:\\anaconda3\\lib\\site-packages (from langchain-openai) (0.9.0)\n",
      "Requirement already satisfied: orjson<4.0.0,>=3.9.14 in d:\\anaconda3\\lib\\site-packages (from langsmith>=0.1.125->langchain-community) (3.10.18)\n",
      "Requirement already satisfied: requests-toolbelt<2.0.0,>=1.0.0 in d:\\anaconda3\\lib\\site-packages (from langsmith>=0.1.125->langchain-community) (1.0.0)\n",
      "Requirement already satisfied: zstandard<0.24.0,>=0.23.0 in d:\\anaconda3\\lib\\site-packages (from langsmith>=0.1.125->langchain-community) (0.23.0)\n",
      "Requirement already satisfied: coloredlogs in d:\\anaconda3\\lib\\site-packages (from onnxruntime>=1.18.0->unstructured-inference) (15.0.1)\n",
      "Requirement already satisfied: flatbuffers in d:\\anaconda3\\lib\\site-packages (from onnxruntime>=1.18.0->unstructured-inference) (25.2.10)\n",
      "Requirement already satisfied: protobuf in d:\\anaconda3\\lib\\site-packages (from onnxruntime>=1.18.0->unstructured-inference) (6.31.1)\n",
      "Requirement already satisfied: sympy in d:\\anaconda3\\lib\\site-packages (from onnxruntime>=1.18.0->unstructured-inference) (1.14.0)\n",
      "Requirement already satisfied: networkx in d:\\anaconda3\\lib\\site-packages (from torch->unstructured-inference) (3.3)\n",
      "Requirement already satisfied: jinja2 in d:\\anaconda3\\lib\\site-packages (from torch->unstructured-inference) (3.1.4)\n",
      "Requirement already satisfied: setuptools in d:\\anaconda3\\lib\\site-packages (from torch->unstructured-inference) (75.1.0)\n",
      "Requirement already satisfied: mpmath<1.4,>=1.1.0 in d:\\anaconda3\\lib\\site-packages (from sympy->onnxruntime>=1.18.0->unstructured-inference) (1.3.0)\n",
      "Requirement already satisfied: colorama in d:\\anaconda3\\lib\\site-packages (from tqdm->unstructured) (0.4.6)\n",
      "Requirement already satisfied: soupsieve>1.2 in d:\\anaconda3\\lib\\site-packages (from beautifulsoup4->unstructured) (2.5)\n",
      "Requirement already satisfied: humanfriendly>=9.1 in d:\\anaconda3\\lib\\site-packages (from coloredlogs->onnxruntime>=1.18.0->unstructured-inference) (10.0)\n",
      "Requirement already satisfied: pyreadline3 in d:\\anaconda3\\lib\\site-packages (from humanfriendly>=9.1->coloredlogs->onnxruntime>=1.18.0->unstructured-inference) (3.5.4)\n",
      "Requirement already satisfied: six>=1.9 in d:\\anaconda3\\lib\\site-packages (from html5lib->unstructured) (1.16.0)\n",
      "Requirement already satisfied: webencodings in d:\\anaconda3\\lib\\site-packages (from html5lib->unstructured) (0.5.1)\n",
      "Requirement already satisfied: MarkupSafe>=2.0 in d:\\anaconda3\\lib\\site-packages (from jinja2->torch->unstructured-inference) (2.1.3)\n",
      "Requirement already satisfied: contourpy>=1.0.1 in d:\\anaconda3\\lib\\site-packages (from matplotlib->unstructured-inference) (1.3.2)\n",
      "Requirement already satisfied: cycler>=0.10 in d:\\anaconda3\\lib\\site-packages (from matplotlib->unstructured-inference) (0.11.0)\n",
      "Requirement already satisfied: fonttools>=4.22.0 in d:\\anaconda3\\lib\\site-packages (from matplotlib->unstructured-inference) (4.51.0)\n",
      "Requirement already satisfied: kiwisolver>=1.3.1 in d:\\anaconda3\\lib\\site-packages (from matplotlib->unstructured-inference) (1.4.4)\n",
      "Requirement already satisfied: pyparsing>=2.3.1 in d:\\anaconda3\\lib\\site-packages (from matplotlib->unstructured-inference) (3.1.2)\n",
      "Requirement already satisfied: python-dateutil>=2.7 in d:\\anaconda3\\lib\\site-packages (from matplotlib->unstructured-inference) (2.9.0.post0)\n",
      "Requirement already satisfied: click in d:\\anaconda3\\lib\\site-packages (from nltk->unstructured) (8.1.7)\n",
      "Requirement already satisfied: joblib in d:\\anaconda3\\lib\\site-packages (from nltk->unstructured) (1.4.2)\n",
      "Requirement already satisfied: pytz>=2020.1 in d:\\anaconda3\\lib\\site-packages (from pandas->unstructured-inference) (2024.1)\n",
      "Requirement already satisfied: tzdata>=2022.7 in d:\\anaconda3\\lib\\site-packages (from pandas->unstructured-inference) (2023.3)\n",
      "Requirement already satisfied: cryptography>=36.0.0 in d:\\anaconda3\\lib\\site-packages (from pdfminer-six->unstructured-inference) (43.0.0)\n",
      "Requirement already satisfied: cffi>=1.12 in d:\\anaconda3\\lib\\site-packages (from cryptography>=36.0.0->pdfminer-six->unstructured-inference) (1.17.1)\n",
      "Requirement already satisfied: pycparser in d:\\anaconda3\\lib\\site-packages (from cffi>=1.12->cryptography>=36.0.0->pdfminer-six->unstructured-inference) (2.21)\n",
      "Requirement already satisfied: olefile in d:\\anaconda3\\lib\\site-packages (from python-oxmsg->unstructured) (0.47)\n",
      "Requirement already satisfied: threadpoolctl>=3.1.0 in d:\\anaconda3\\lib\\site-packages (from scikit-learn->sentence-transformers) (3.5.0)\n",
      "Requirement already satisfied: torchvision in d:\\anaconda3\\lib\\site-packages (from timm->unstructured-inference) (0.22.1)\n",
      "Requirement already satisfied: aiofiles>=24.1.0 in d:\\anaconda3\\lib\\site-packages (from unstructured-client->unstructured) (24.1.0)\n",
      "Requirement already satisfied: nest-asyncio>=1.6.0 in d:\\anaconda3\\lib\\site-packages (from unstructured-client->unstructured) (1.6.0)\n",
      "Requirement already satisfied: pypdf>=4.0 in d:\\anaconda3\\lib\\site-packages (from unstructured-client->unstructured) (5.7.0)\n"
     ]
    }
   ],
   "source": [
    "!pip install langchain-community unstructured PyMuPDF unstructured-inference python-pptx sentence-transformers faiss-cpu openai langchain-openai numpy python-docx\t\n"
   ]
  },
  {
   "cell_type": "code",
   "execution_count": 29,
   "id": "a405284d",
   "metadata": {},
   "outputs": [],
   "source": [
    "from modules.loader import DocumentLoader\n",
    "from modules.chunker import DocumentChunker\n",
    "from modules.chunker import create_chunker\n",
    "from modules.embeddings import EmbeddingGenerator\n",
    "from modules.vector_store import VectorStoreManager\n",
    "from modules.agent import SmartStudyAgent, LLMProvider\n"
   ]
  },
  {
   "cell_type": "code",
   "execution_count": 30,
   "id": "723898ed",
   "metadata": {},
   "outputs": [
    {
     "name": "stdout",
     "output_type": "stream",
     "text": [
      "Loaded 17 document(s)\n"
     ]
    }
   ],
   "source": [
    "file_path = r\"D:\\WORK\\DocAgent\\data\\2507.07957v1.pdf\"  \n",
    "\n",
    "loader = DocumentLoader()\n",
    "documents = loader.load(file_path)\n",
    "print(f\"Loaded {len(documents)} document(s)\")\n"
   ]
  },
  {
   "cell_type": "code",
   "execution_count": 31,
   "id": "de8417f6",
   "metadata": {},
   "outputs": [
    {
     "name": "stdout",
     "output_type": "stream",
     "text": [
      "Created 123 chunks\n"
     ]
    }
   ],
   "source": [
    "chunker = create_chunker(chunk_size=500, chunk_overlap=50)\n",
    "chunks = chunker.chunk_documents(documents)\n",
    "print(f\"Created {len(chunks)} chunks\")"
   ]
  },
  {
   "cell_type": "code",
   "execution_count": 32,
   "id": "f0240df1",
   "metadata": {},
   "outputs": [
    {
     "data": {
      "application/vnd.jupyter.widget-view+json": {
       "model_id": "4700e083dc684d989631ceb4cb682064",
       "version_major": 2,
       "version_minor": 0
      },
      "text/plain": [
       "Batches:   0%|          | 0/4 [00:00<?, ?it/s]"
      ]
     },
     "metadata": {},
     "output_type": "display_data"
    }
   ],
   "source": [
    "generator = EmbeddingGenerator()\n",
    "retriever = generator.generate(chunks)"
   ]
  },
  {
   "cell_type": "code",
   "execution_count": 33,
   "id": "c9d63d22",
   "metadata": {},
   "outputs": [
    {
     "name": "stdout",
     "output_type": "stream",
     "text": [
      "✅ Agent is ready!\n"
     ]
    }
   ],
   "source": [
    "api_key=\"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\"\n",
    "agent = SmartStudyAgent(api_key= api_key)\n",
    "print(\"✅ Agent is ready!\")\n"
   ]
  },
  {
   "cell_type": "code",
   "execution_count": 34,
   "id": "b73c221a",
   "metadata": {},
   "outputs": [
    {
     "name": "stdout",
     "output_type": "stream",
     "text": [
      "\n",
      "\n",
      "\u001b[1m> Entering new AgentExecutor chain...\u001b[0m\n",
      "\u001b[32;1m\u001b[1;3m To find the main purpose of the document, I will first search for keywords that suggest the purpose in the document. Then, I will summarize the document and find the section that best explains the purpose.\n",
      "\n",
      "Action: search_knowledge\n",
      "Action Input: main purpose of the document\u001b[0m\u001b[36;1m\u001b[1;3m\n",
      "\n",
      "==================================================Result 1:\n",
      "Introduction to Machine Learning\n",
      "    \n",
      "    Machine learning is a subset of artificial intelligence that enables computers to learn and make decisions from data without being explicitly programmed for every task.\n",
      "    \n",
      "    Types of Machine Learning:\n",
      "[Source: data\\sample_files\\sample.txt]\n",
      "\n",
      "Result 2:\n",
      "Applications:\n",
      "    - Image recognition\n",
      "    - Natural language processing\n",
      "    - Recommendation systems\n",
      "    - Autonomous vehicles\n",
      "    \n",
      "    Key Concepts:\n",
      "    - Training data\n",
      "    - Model validation\n",
      "    - Overfitting and underfitting\n",
      "    - Feature engineering\n",
      "[Source: data\\sample_files\\sample.txt]\n",
      "\n",
      "Result 3:\n",
      "Types of Machine Learning:\n",
      "    1. Supervised Learning: Uses labeled data to train models\n",
      "    2. Unsupervised Learning: Finds patterns in unlabeled data\n",
      "    3. Reinforcement Learning: Learns through interaction with environment\n",
      "    \n",
      "    Applications:\n",
      "    - Image recognition\n",
      "[Source: data\\sample_files\\sample.txt]\u001b[0m\u001b[32;1m\u001b[1;3m The main purpose of the document seems to be introducing the topic of Machine Learning. This is inferred from the document title (\"Introduction to Machine Learning\") and the first result, which briefly explains what machine learning is.\n",
      "\n",
      "However, to bolster this conclusion, it would be beneficial to summarize the document and find the section that best explains the purpose.\n",
      "\n",
      "Action: summarize_knowledge\n",
      "Action Input: main purpose of the document\n",
      "Summary Length: medium\u001b[0m\u001b[36;1m\u001b[1;3mDocument 1 mainly presents key concepts and applications related to machine learning, emphasizing its use in image recognition, natural language processing, recommendation systems, and autonomous vehicles. The document details important machine learning concepts such as training data, model validation, overfitting and underfitting, and feature engineering.\n",
      "\n",
      "Document 2 provides an introduction to machine learning, explaining that it is a subset of artificial intelligence that allows computers to learn and make decisions from data without needing explicit programming for every task.\n",
      "\n",
      "Document 3 outlines the various types of machine learning, categorizing them into supervised learning (which trains models using labeled data), unsupervised learning (which finds patterns in unlabeled data), and reinforcement learning (which learns through interaction with the environment). The document also mentions that image recognition is an application of machine learning under multiple learning types.\n",
      "\n",
      "[Summary based on 3 documents, Length: medium]\u001b[0m\u001b[32;1m\u001b[1;3m The main purpose of this document is to introduce the topic of Machine Learning, explain its importance, and illustrate its applications in various fields such as image recognition, natural language processing, recommendation systems, and autonomous vehicles. It also briefly elaborates on key concepts related to machine learning and the various types, including supervised learning, unsupervised learning, and reinforcement learning. In summary, the document aims to provide readers with a comprehensive understanding of the principles and practical applications of machine learning.\n",
      "\n",
      "Final Answer: The main purpose of this document is to introduce and explain the topic of Machine Learning, its applications, and key concepts.\u001b[0m\n",
      "\n",
      "\u001b[1m> Finished chain.\u001b[0m\n",
      "Answer: The main purpose of this document is to introduce and explain the topic of Machine Learning, its applications, and key concepts.\n"
     ]
    }
   ],
   "source": [
    "query = \"What is the main purpose of this document\"\n",
    "response = agent.chat(query)\n",
    "\n",
    "if response.get(\"success\"):\n",
    "    print(\"Answer:\", response[\"answer\"])\n",
    "else:\n",
    "    print(\"Error:\", response.get(\"error\"))\n"
   ]
  }
 ],
 "metadata": {
  "kernelspec": {
   "display_name": "base",
   "language": "python",
   "name": "python3"
  },
  "language_info": {
   "codemirror_mode": {
    "name": "ipython",
    "version": 3
   },
   "file_extension": ".py",
   "mimetype": "text/x-python",
   "name": "python",
   "nbconvert_exporter": "python",
   "pygments_lexer": "ipython3",
   "version": "3.12.7"
  }
 },
 "nbformat": 4,
 "nbformat_minor": 5
}
